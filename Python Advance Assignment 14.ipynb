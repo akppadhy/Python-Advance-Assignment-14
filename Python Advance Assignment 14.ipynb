{
 "cells": [
  {
   "cell_type": "code",
   "execution_count": null,
   "id": "39ebe928-2545-4566-b4e3-fff7125f0366",
   "metadata": {},
   "outputs": [],
   "source": [
    "#1. Is an assignment operator like += only for show? Is it possible that it would lead to faster results at the runtime ?\n",
    "\n",
    "Ans. A=A+1 evaluates to finding A, adding 1 to it. Then storing the value again in variable A. \n",
    "This expression makes Python to look for memory holder of a twice. \n",
    "But A+=1 simply means value of A is to incremented by 1. As memory address has to be identified once, += leads to faster operation."
   ]
  },
  {
   "cell_type": "code",
   "execution_count": null,
   "id": "405ca3ab-d2d5-4527-bf8d-06c65319655f",
   "metadata": {},
   "outputs": [],
   "source": [
    "#2. What is the smallest no of statements you'd have to write in most programming languages to replace the Python expr a, b = a + b, a ?\n",
    "\n",
    "Ans. Minimum number of lines required to write above code in languages other Python will be 4, two for assigning initial values for \n",
    "variables a and b, and two for reassignment i.e. a=a+b and b=a."
   ]
  },
  {
   "cell_type": "code",
   "execution_count": null,
   "id": "46552b35-0e60-4ac1-a675-e21706e82467",
   "metadata": {},
   "outputs": [],
   "source": [
    "#3. In Python, what is the most effective way to set a list of 100 integers to 0?\n",
    "\n",
    "Ans. The Most effective way to set a list of 100 integers to 0 in python is by using repition operator(*) or by using list comprehension."
   ]
  },
  {
   "cell_type": "code",
   "execution_count": 1,
   "id": "ef6672e6-7709-4ea3-a482-f82ac4b39b86",
   "metadata": {},
   "outputs": [
    {
     "name": "stdout",
     "output_type": "stream",
     "text": [
      "[1, 2, 3, 1, 2, 3, 1, 2, 3, 1, 2, 3, 1, 2, 3, 1, 2, 3, 1, 2, 3, 1, 2, 3, 1, 2, 3, 1, 2, 3, 1, 2, 3, 1, 2, 3, 1, 2, 3, 1, 2, 3, 1, 2, 3, 1, 2, 3, 1, 2, 3, 1, 2, 3, 1, 2, 3, 1, 2, 3, 1, 2, 3, 1, 2, 3, 1, 2, 3, 1, 2, 3, 1, 2, 3, 1, 2, 3, 1, 2, 3, 1, 2, 3, 1, 2, 3, 1, 2, 3, 1, 2, 3, 1, 2, 3, 1, 2, 3]\n"
     ]
    }
   ],
   "source": [
    "#4. What is the most effective way to initialise a list of 99 integers that repeats the sequence 1, 2, 3? S If necessary, \n",
    "#show step-by-step instructions on how to accomplish this.\n",
    "\n",
    "\n",
    "my_list = [1,2,3]*33\n",
    "print(my_list)"
   ]
  },
  {
   "cell_type": "code",
   "execution_count": 2,
   "id": "07085a60-23f3-4533-900b-0bae5d3a36f7",
   "metadata": {},
   "outputs": [
    {
     "name": "stdout",
     "output_type": "stream",
     "text": [
      "1 1 2 2 3 3 4 4 5 5 "
     ]
    }
   ],
   "source": [
    "#5. If you're using IDLE to run a Python application, explain how to print a multidimensional list as efficiently?\n",
    "\n",
    "\n",
    "my_list = [[1,1],[2,2],[3,3],[4,4],[5,5]] # 2 dimensional List\n",
    "for x in range(len(my_list)):\n",
    "    for y in range(len(my_list[x])):\n",
    "        print(my_list[x][y],end=\" \")"
   ]
  },
  {
   "cell_type": "code",
   "execution_count": null,
   "id": "ba1949df-6ceb-44c7-8950-16f919570cd5",
   "metadata": {},
   "outputs": [],
   "source": [
    "#6. Is it possible to use list comprehension with a string? If so, how can you go about doing it?\n",
    "\n",
    "Ans. List comprehension with string is possible."
   ]
  },
  {
   "cell_type": "code",
   "execution_count": 3,
   "id": "156e7f86-5ea8-4318-9aed-d5b410494b82",
   "metadata": {},
   "outputs": [
    {
     "name": "stdout",
     "output_type": "stream",
     "text": [
      "['i', 'N', 'e', 'u', 'r', 'o', 'n']\n"
     ]
    }
   ],
   "source": [
    "my_list = [ele for ele in 'iNeuron']\n",
    "print(my_list)"
   ]
  },
  {
   "cell_type": "code",
   "execution_count": null,
   "id": "e9a60014-16b1-4368-84eb-f766d8423dcc",
   "metadata": {},
   "outputs": [],
   "source": [
    "#7. From the command line, how do you get support with a user-written Python programme? Is this possible from inside IDLE?\n",
    "\n",
    "Ans. Get support with a user-written Python Programme: Start a command prompt (Windows) or terminal window (Linux/Mac). \n",
    "If the current working directory is the same as the location in which you saved the file, you can simply specify the filename as a command-line argument to the Python interpreter.\n",
    "\n",
    "Get support with a User-written Python Program from IDLE: You can also create script files and run them in IDLE. From the Shell window menu, select File → New File. That should open an additional editing window. Type in the code to be executed. From the menu in that window, select File → Save or File → Save As… and save the file to disk. \n",
    "Then select Run → Run Module. The output should appear back in the interpreter"
   ]
  },
  {
   "cell_type": "code",
   "execution_count": null,
   "id": "9805dede-402b-4ae6-95a1-9e776639ea54",
   "metadata": {},
   "outputs": [],
   "source": [
    "#8.  Functions are said to be “first-class objects” in Python but not in most other languages, such as C++ or Java. What can you do in Python with a function (callable object) that you can't do in C or C++?\n",
    "\n",
    "Ans. The tasks which can be performed with the functions in python are:\n",
    "\n",
    "*A function is an instance of the Object type.\n",
    "*You can store the function in a variable.\n",
    "*You can pass the function as a parameter to another function.\n",
    "*You can return the function from a function.\n",
    "*You can store them in data structures such as hash tables, lists,"
   ]
  },
  {
   "cell_type": "code",
   "execution_count": null,
   "id": "ddf77116-fc23-4e12-bb1a-39b1f0acca13",
   "metadata": {},
   "outputs": [],
   "source": [
    "#9. How do you distinguish between a wrapper, a wrapped feature, and a decorator?\n",
    "\n",
    "Ans. Wrappers Around the functions are known as Decrators."
   ]
  },
  {
   "cell_type": "code",
   "execution_count": null,
   "id": "986ed384-d12e-44a2-bc75-821ea0efa7f0",
   "metadata": {},
   "outputs": [],
   "source": [
    "#10. If a function is a generator function, what does it return?\n",
    "\n",
    "Ans. Generator functions are a special kind of function that return a lazy iterator. \n",
    "These are objects that you can loop over like a list. However, unlike lists, lazy iterators do not store their contents in memory."
   ]
  },
  {
   "cell_type": "code",
   "execution_count": null,
   "id": "9e1fc401-eca3-4800-9eb2-ab98012a22a4",
   "metadata": {},
   "outputs": [],
   "source": [
    "#11. What is the one improvement that must be made to a function in order for it to become a generator function in the Python language?\n",
    "\n",
    "Ans. Generator is a written as normal function but uses yield keyword to return values instead of return keyword."
   ]
  },
  {
   "cell_type": "code",
   "execution_count": null,
   "id": "f945f90f-15e4-43ca-8288-f2194d9c2169",
   "metadata": {},
   "outputs": [],
   "source": [
    "#12.  Identify at least one benefit of generators.\n",
    "\n",
    "Ans. return statement sends a specified value back to its caller whereas yield statment can produce a sequence of values. \n",
    "We should use generator when we want to iterate over a sequence, but don’t want to store the entire sequence in memory."
   ]
  }
 ],
 "metadata": {
  "kernelspec": {
   "display_name": "Python 3 (ipykernel)",
   "language": "python",
   "name": "python3"
  },
  "language_info": {
   "codemirror_mode": {
    "name": "ipython",
    "version": 3
   },
   "file_extension": ".py",
   "mimetype": "text/x-python",
   "name": "python",
   "nbconvert_exporter": "python",
   "pygments_lexer": "ipython3",
   "version": "3.10.6"
  }
 },
 "nbformat": 4,
 "nbformat_minor": 5
}
